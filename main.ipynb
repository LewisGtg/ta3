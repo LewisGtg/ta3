{
 "cells": [
  {
   "cell_type": "code",
   "execution_count": 2,
   "id": "c83f8362",
   "metadata": {},
   "outputs": [],
   "source": [
    "import cv2\n",
    "import numpy as np"
   ]
  },
  {
   "cell_type": "code",
   "execution_count": 3,
   "id": "fdf4bc75",
   "metadata": {},
   "outputs": [],
   "source": [
    "imagem = cv2.imread(\"documento.jpeg\")"
   ]
  },
  {
   "cell_type": "code",
   "execution_count": 4,
   "id": "c72fdccd",
   "metadata": {},
   "outputs": [],
   "source": [
    "# Pontos de origem (deve ser extraído manualmente ou por detecção automática)\n",
    "pts_orig = np.float32([[320, 150], [700, 180], [100, 850], [750, 900]])\n",
    "\n",
    "# Pontos de destino para simular escaneamento\n",
    "largura, altura = 600, 800\n",
    "pts_dest = np.float32([[0, 0], [largura, 0], [0, altura], [largura, altura]])\n",
    "\n",
    "# Calcular matriz de transformação perspectiva\n",
    "matriz = cv2.getPerspectiveTransform(pts_orig, pts_dest)\n",
    "\n",
    "# Aplicar transformação\n",
    "imagem_corrigida = cv2.warpPerspective(imagem, matriz, (largura, altura))"
   ]
  },
  {
   "cell_type": "code",
   "execution_count": null,
   "id": "2894d087",
   "metadata": {},
   "outputs": [
    {
     "name": "stderr",
     "output_type": "stream",
     "text": [
      "qt.qpa.plugin: Could not find the Qt platform plugin \"wayland\" in \"/home/lewis/ufpr/ta3/.venv/lib/python3.12/site-packages/cv2/qt/plugins\"\n"
     ]
    }
   ],
   "source": [
    "# Mostrar resultado\n",
    "cv2.imshow(\"Original\", imagem)\n",
    "cv2.imshow(\"Corrigida\", imagem_corrigida)\n",
    "cv2.waitKey(0) #Pressione qualquer tecla para fechar as imagens, não feche pelo \"x\" do canto superior direito\n",
    "cv2.destroyAllWindows()\n"
   ]
  }
 ],
 "metadata": {
  "kernelspec": {
   "display_name": ".venv",
   "language": "python",
   "name": "python3"
  },
  "language_info": {
   "codemirror_mode": {
    "name": "ipython",
    "version": 3
   },
   "file_extension": ".py",
   "mimetype": "text/x-python",
   "name": "python",
   "nbconvert_exporter": "python",
   "pygments_lexer": "ipython3",
   "version": "3.12.3"
  }
 },
 "nbformat": 4,
 "nbformat_minor": 5
}
